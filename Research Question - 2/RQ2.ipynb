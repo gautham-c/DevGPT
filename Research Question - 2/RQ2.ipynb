{
  "nbformat": 4,
  "nbformat_minor": 0,
  "metadata": {
    "colab": {
      "provenance": []
    },
    "kernelspec": {
      "name": "python3",
      "display_name": "Python 3"
    },
    "language_info": {
      "name": "python"
    }
  },
  "cells": [
    {
      "cell_type": "code",
      "execution_count": 2,
      "metadata": {
        "id": "2Oi6RvfNeZoI"
      },
      "outputs": [],
      "source": [
        "import json\n",
        "import pandas as pd\n",
        "from sklearn.model_selection import train_test_split\n",
        "from sklearn.feature_extraction.text import TfidfVectorizer\n",
        "from sklearn.linear_model import LinearRegression\n",
        "from sklearn.metrics import mean_squared_error\n",
        "from sklearn.model_selection import cross_val_score\n",
        "import tensorflow as tf\n",
        "from tensorflow.keras.models import Sequential\n",
        "from tensorflow.keras.layers import Dense, Embedding, Dense\n",
        "from sklearn.preprocessing import StandardScaler"
      ]
    },
    {
      "cell_type": "code",
      "source": [
        "from google.colab import files\n",
        "uploaded = files.upload()"
      ],
      "metadata": {
        "colab": {
          "base_uri": "https://localhost:8080/",
          "height": 74
        },
        "id": "scle9aRaefb0",
        "outputId": "45516a6d-9a03-437f-8367-ef1eab9f4eea"
      },
      "execution_count": 1,
      "outputs": [
        {
          "output_type": "display_data",
          "data": {
            "text/plain": [
              "<IPython.core.display.HTML object>"
            ],
            "text/html": [
              "\n",
              "     <input type=\"file\" id=\"files-e60452c1-0504-4a35-8b5d-0db157fa5982\" name=\"files[]\" multiple disabled\n",
              "        style=\"border:none\" />\n",
              "     <output id=\"result-e60452c1-0504-4a35-8b5d-0db157fa5982\">\n",
              "      Upload widget is only available when the cell has been executed in the\n",
              "      current browser session. Please rerun this cell to enable.\n",
              "      </output>\n",
              "      <script>// Copyright 2017 Google LLC\n",
              "//\n",
              "// Licensed under the Apache License, Version 2.0 (the \"License\");\n",
              "// you may not use this file except in compliance with the License.\n",
              "// You may obtain a copy of the License at\n",
              "//\n",
              "//      http://www.apache.org/licenses/LICENSE-2.0\n",
              "//\n",
              "// Unless required by applicable law or agreed to in writing, software\n",
              "// distributed under the License is distributed on an \"AS IS\" BASIS,\n",
              "// WITHOUT WARRANTIES OR CONDITIONS OF ANY KIND, either express or implied.\n",
              "// See the License for the specific language governing permissions and\n",
              "// limitations under the License.\n",
              "\n",
              "/**\n",
              " * @fileoverview Helpers for google.colab Python module.\n",
              " */\n",
              "(function(scope) {\n",
              "function span(text, styleAttributes = {}) {\n",
              "  const element = document.createElement('span');\n",
              "  element.textContent = text;\n",
              "  for (const key of Object.keys(styleAttributes)) {\n",
              "    element.style[key] = styleAttributes[key];\n",
              "  }\n",
              "  return element;\n",
              "}\n",
              "\n",
              "// Max number of bytes which will be uploaded at a time.\n",
              "const MAX_PAYLOAD_SIZE = 100 * 1024;\n",
              "\n",
              "function _uploadFiles(inputId, outputId) {\n",
              "  const steps = uploadFilesStep(inputId, outputId);\n",
              "  const outputElement = document.getElementById(outputId);\n",
              "  // Cache steps on the outputElement to make it available for the next call\n",
              "  // to uploadFilesContinue from Python.\n",
              "  outputElement.steps = steps;\n",
              "\n",
              "  return _uploadFilesContinue(outputId);\n",
              "}\n",
              "\n",
              "// This is roughly an async generator (not supported in the browser yet),\n",
              "// where there are multiple asynchronous steps and the Python side is going\n",
              "// to poll for completion of each step.\n",
              "// This uses a Promise to block the python side on completion of each step,\n",
              "// then passes the result of the previous step as the input to the next step.\n",
              "function _uploadFilesContinue(outputId) {\n",
              "  const outputElement = document.getElementById(outputId);\n",
              "  const steps = outputElement.steps;\n",
              "\n",
              "  const next = steps.next(outputElement.lastPromiseValue);\n",
              "  return Promise.resolve(next.value.promise).then((value) => {\n",
              "    // Cache the last promise value to make it available to the next\n",
              "    // step of the generator.\n",
              "    outputElement.lastPromiseValue = value;\n",
              "    return next.value.response;\n",
              "  });\n",
              "}\n",
              "\n",
              "/**\n",
              " * Generator function which is called between each async step of the upload\n",
              " * process.\n",
              " * @param {string} inputId Element ID of the input file picker element.\n",
              " * @param {string} outputId Element ID of the output display.\n",
              " * @return {!Iterable<!Object>} Iterable of next steps.\n",
              " */\n",
              "function* uploadFilesStep(inputId, outputId) {\n",
              "  const inputElement = document.getElementById(inputId);\n",
              "  inputElement.disabled = false;\n",
              "\n",
              "  const outputElement = document.getElementById(outputId);\n",
              "  outputElement.innerHTML = '';\n",
              "\n",
              "  const pickedPromise = new Promise((resolve) => {\n",
              "    inputElement.addEventListener('change', (e) => {\n",
              "      resolve(e.target.files);\n",
              "    });\n",
              "  });\n",
              "\n",
              "  const cancel = document.createElement('button');\n",
              "  inputElement.parentElement.appendChild(cancel);\n",
              "  cancel.textContent = 'Cancel upload';\n",
              "  const cancelPromise = new Promise((resolve) => {\n",
              "    cancel.onclick = () => {\n",
              "      resolve(null);\n",
              "    };\n",
              "  });\n",
              "\n",
              "  // Wait for the user to pick the files.\n",
              "  const files = yield {\n",
              "    promise: Promise.race([pickedPromise, cancelPromise]),\n",
              "    response: {\n",
              "      action: 'starting',\n",
              "    }\n",
              "  };\n",
              "\n",
              "  cancel.remove();\n",
              "\n",
              "  // Disable the input element since further picks are not allowed.\n",
              "  inputElement.disabled = true;\n",
              "\n",
              "  if (!files) {\n",
              "    return {\n",
              "      response: {\n",
              "        action: 'complete',\n",
              "      }\n",
              "    };\n",
              "  }\n",
              "\n",
              "  for (const file of files) {\n",
              "    const li = document.createElement('li');\n",
              "    li.append(span(file.name, {fontWeight: 'bold'}));\n",
              "    li.append(span(\n",
              "        `(${file.type || 'n/a'}) - ${file.size} bytes, ` +\n",
              "        `last modified: ${\n",
              "            file.lastModifiedDate ? file.lastModifiedDate.toLocaleDateString() :\n",
              "                                    'n/a'} - `));\n",
              "    const percent = span('0% done');\n",
              "    li.appendChild(percent);\n",
              "\n",
              "    outputElement.appendChild(li);\n",
              "\n",
              "    const fileDataPromise = new Promise((resolve) => {\n",
              "      const reader = new FileReader();\n",
              "      reader.onload = (e) => {\n",
              "        resolve(e.target.result);\n",
              "      };\n",
              "      reader.readAsArrayBuffer(file);\n",
              "    });\n",
              "    // Wait for the data to be ready.\n",
              "    let fileData = yield {\n",
              "      promise: fileDataPromise,\n",
              "      response: {\n",
              "        action: 'continue',\n",
              "      }\n",
              "    };\n",
              "\n",
              "    // Use a chunked sending to avoid message size limits. See b/62115660.\n",
              "    let position = 0;\n",
              "    do {\n",
              "      const length = Math.min(fileData.byteLength - position, MAX_PAYLOAD_SIZE);\n",
              "      const chunk = new Uint8Array(fileData, position, length);\n",
              "      position += length;\n",
              "\n",
              "      const base64 = btoa(String.fromCharCode.apply(null, chunk));\n",
              "      yield {\n",
              "        response: {\n",
              "          action: 'append',\n",
              "          file: file.name,\n",
              "          data: base64,\n",
              "        },\n",
              "      };\n",
              "\n",
              "      let percentDone = fileData.byteLength === 0 ?\n",
              "          100 :\n",
              "          Math.round((position / fileData.byteLength) * 100);\n",
              "      percent.textContent = `${percentDone}% done`;\n",
              "\n",
              "    } while (position < fileData.byteLength);\n",
              "  }\n",
              "\n",
              "  // All done.\n",
              "  yield {\n",
              "    response: {\n",
              "      action: 'complete',\n",
              "    }\n",
              "  };\n",
              "}\n",
              "\n",
              "scope.google = scope.google || {};\n",
              "scope.google.colab = scope.google.colab || {};\n",
              "scope.google.colab._files = {\n",
              "  _uploadFiles,\n",
              "  _uploadFilesContinue,\n",
              "};\n",
              "})(self);\n",
              "</script> "
            ]
          },
          "metadata": {}
        },
        {
          "output_type": "stream",
          "name": "stdout",
          "text": [
            "Saving 20230727_195816_hn_sharings.json to 20230727_195816_hn_sharings.json\n"
          ]
        }
      ]
    },
    {
      "cell_type": "code",
      "source": [
        "with open('20230727_195816_hn_sharings.json', 'r') as file:\n",
        "    data = json.load(file)"
      ],
      "metadata": {
        "id": "-yjFUg6veiaK"
      },
      "execution_count": 3,
      "outputs": []
    },
    {
      "cell_type": "code",
      "source": [
        "conversations = []\n",
        "labels = []\n",
        "\n",
        "for source in data['Sources']:\n",
        "    for chat in source['ChatgptSharing']:\n",
        "        if 'Conversations' not in chat:\n",
        "            continue\n",
        "        for conv in chat['Conversations']:\n",
        "          conversations.append(conv['Prompt'] + ' ' + conv['Answer'])\n",
        "          labels.append(len(conv['Prompt'].split()) + len(conv['Answer'].split()))"
      ],
      "metadata": {
        "id": "JE_xZqG2eslN"
      },
      "execution_count": 4,
      "outputs": []
    },
    {
      "cell_type": "code",
      "source": [
        "df = pd.DataFrame({'Conversations': conversations, 'Labels': labels})"
      ],
      "metadata": {
        "id": "_k51arNwfKNn"
      },
      "execution_count": 5,
      "outputs": []
    },
    {
      "cell_type": "code",
      "source": [
        "train_df, test_df = train_test_split(df, test_size=0.2, random_state=42)"
      ],
      "metadata": {
        "id": "5IAgtmsGfMrM"
      },
      "execution_count": 6,
      "outputs": []
    },
    {
      "cell_type": "code",
      "source": [
        "tfidf_vectorizer = TfidfVectorizer(max_features=5000)\n",
        "X_train_tfidf = tfidf_vectorizer.fit_transform(train_df['Conversations'])\n",
        "X_test_tfidf = tfidf_vectorizer.transform(test_df['Conversations'])"
      ],
      "metadata": {
        "id": "SQdQSza1fPIL"
      },
      "execution_count": 7,
      "outputs": []
    },
    {
      "cell_type": "code",
      "source": [
        "lr_model = LinearRegression()\n",
        "lr_model.fit(X_train_tfidf, train_df['Labels'])"
      ],
      "metadata": {
        "colab": {
          "base_uri": "https://localhost:8080/",
          "height": 75
        },
        "id": "feyUktOGfQhV",
        "outputId": "6cf8c51d-9e39-482e-873e-73acaff6d8e8"
      },
      "execution_count": 8,
      "outputs": [
        {
          "output_type": "execute_result",
          "data": {
            "text/plain": [
              "LinearRegression()"
            ],
            "text/html": [
              "<style>#sk-container-id-1 {color: black;background-color: white;}#sk-container-id-1 pre{padding: 0;}#sk-container-id-1 div.sk-toggleable {background-color: white;}#sk-container-id-1 label.sk-toggleable__label {cursor: pointer;display: block;width: 100%;margin-bottom: 0;padding: 0.3em;box-sizing: border-box;text-align: center;}#sk-container-id-1 label.sk-toggleable__label-arrow:before {content: \"▸\";float: left;margin-right: 0.25em;color: #696969;}#sk-container-id-1 label.sk-toggleable__label-arrow:hover:before {color: black;}#sk-container-id-1 div.sk-estimator:hover label.sk-toggleable__label-arrow:before {color: black;}#sk-container-id-1 div.sk-toggleable__content {max-height: 0;max-width: 0;overflow: hidden;text-align: left;background-color: #f0f8ff;}#sk-container-id-1 div.sk-toggleable__content pre {margin: 0.2em;color: black;border-radius: 0.25em;background-color: #f0f8ff;}#sk-container-id-1 input.sk-toggleable__control:checked~div.sk-toggleable__content {max-height: 200px;max-width: 100%;overflow: auto;}#sk-container-id-1 input.sk-toggleable__control:checked~label.sk-toggleable__label-arrow:before {content: \"▾\";}#sk-container-id-1 div.sk-estimator input.sk-toggleable__control:checked~label.sk-toggleable__label {background-color: #d4ebff;}#sk-container-id-1 div.sk-label input.sk-toggleable__control:checked~label.sk-toggleable__label {background-color: #d4ebff;}#sk-container-id-1 input.sk-hidden--visually {border: 0;clip: rect(1px 1px 1px 1px);clip: rect(1px, 1px, 1px, 1px);height: 1px;margin: -1px;overflow: hidden;padding: 0;position: absolute;width: 1px;}#sk-container-id-1 div.sk-estimator {font-family: monospace;background-color: #f0f8ff;border: 1px dotted black;border-radius: 0.25em;box-sizing: border-box;margin-bottom: 0.5em;}#sk-container-id-1 div.sk-estimator:hover {background-color: #d4ebff;}#sk-container-id-1 div.sk-parallel-item::after {content: \"\";width: 100%;border-bottom: 1px solid gray;flex-grow: 1;}#sk-container-id-1 div.sk-label:hover label.sk-toggleable__label {background-color: #d4ebff;}#sk-container-id-1 div.sk-serial::before {content: \"\";position: absolute;border-left: 1px solid gray;box-sizing: border-box;top: 0;bottom: 0;left: 50%;z-index: 0;}#sk-container-id-1 div.sk-serial {display: flex;flex-direction: column;align-items: center;background-color: white;padding-right: 0.2em;padding-left: 0.2em;position: relative;}#sk-container-id-1 div.sk-item {position: relative;z-index: 1;}#sk-container-id-1 div.sk-parallel {display: flex;align-items: stretch;justify-content: center;background-color: white;position: relative;}#sk-container-id-1 div.sk-item::before, #sk-container-id-1 div.sk-parallel-item::before {content: \"\";position: absolute;border-left: 1px solid gray;box-sizing: border-box;top: 0;bottom: 0;left: 50%;z-index: -1;}#sk-container-id-1 div.sk-parallel-item {display: flex;flex-direction: column;z-index: 1;position: relative;background-color: white;}#sk-container-id-1 div.sk-parallel-item:first-child::after {align-self: flex-end;width: 50%;}#sk-container-id-1 div.sk-parallel-item:last-child::after {align-self: flex-start;width: 50%;}#sk-container-id-1 div.sk-parallel-item:only-child::after {width: 0;}#sk-container-id-1 div.sk-dashed-wrapped {border: 1px dashed gray;margin: 0 0.4em 0.5em 0.4em;box-sizing: border-box;padding-bottom: 0.4em;background-color: white;}#sk-container-id-1 div.sk-label label {font-family: monospace;font-weight: bold;display: inline-block;line-height: 1.2em;}#sk-container-id-1 div.sk-label-container {text-align: center;}#sk-container-id-1 div.sk-container {/* jupyter's `normalize.less` sets `[hidden] { display: none; }` but bootstrap.min.css set `[hidden] { display: none !important; }` so we also need the `!important` here to be able to override the default hidden behavior on the sphinx rendered scikit-learn.org. See: https://github.com/scikit-learn/scikit-learn/issues/21755 */display: inline-block !important;position: relative;}#sk-container-id-1 div.sk-text-repr-fallback {display: none;}</style><div id=\"sk-container-id-1\" class=\"sk-top-container\"><div class=\"sk-text-repr-fallback\"><pre>LinearRegression()</pre><b>In a Jupyter environment, please rerun this cell to show the HTML representation or trust the notebook. <br />On GitHub, the HTML representation is unable to render, please try loading this page with nbviewer.org.</b></div><div class=\"sk-container\" hidden><div class=\"sk-item\"><div class=\"sk-estimator sk-toggleable\"><input class=\"sk-toggleable__control sk-hidden--visually\" id=\"sk-estimator-id-1\" type=\"checkbox\" checked><label for=\"sk-estimator-id-1\" class=\"sk-toggleable__label sk-toggleable__label-arrow\">LinearRegression</label><div class=\"sk-toggleable__content\"><pre>LinearRegression()</pre></div></div></div></div></div>"
            ]
          },
          "metadata": {},
          "execution_count": 8
        }
      ]
    },
    {
      "cell_type": "code",
      "source": [
        "predictions_lr = lr_model.predict(X_test_tfidf)\n",
        "mse_lr = mean_squared_error(test_df['Labels'], predictions_lr)\n",
        "print(f'Mean Squared Error (Linear Regression): {mse_lr}')"
      ],
      "metadata": {
        "colab": {
          "base_uri": "https://localhost:8080/"
        },
        "id": "oW1iWLd0fVGT",
        "outputId": "afbde370-deb6-4e86-a613-6457872fd675"
      },
      "execution_count": 9,
      "outputs": [
        {
          "output_type": "stream",
          "name": "stdout",
          "text": [
            "Mean Squared Error (Linear Regression): 19420.579936559156\n"
          ]
        }
      ]
    },
    {
      "cell_type": "code",
      "source": [
        "model = Sequential()\n",
        "model.add(Dense(64, activation='relu', input_dim=X_train_tfidf.shape[1]))\n",
        "model.add(Dense(1, activation='linear'))\n",
        "model.compile(optimizer='adam', loss='mean_squared_error')"
      ],
      "metadata": {
        "id": "s5EcXfi1fXp-"
      },
      "execution_count": 10,
      "outputs": []
    },
    {
      "cell_type": "code",
      "source": [
        "scaler = StandardScaler()\n",
        "X_train_scaled = scaler.fit_transform(X_train_tfidf.toarray())\n",
        "X_test_scaled = scaler.transform(X_test_tfidf.toarray())"
      ],
      "metadata": {
        "id": "9cQKEJCEfZXE"
      },
      "execution_count": 11,
      "outputs": []
    },
    {
      "cell_type": "code",
      "source": [
        "model.fit(X_train_scaled, train_df['Labels'], epochs=100\n",
        "          , batch_size=32, validation_split=0.2)"
      ],
      "metadata": {
        "colab": {
          "base_uri": "https://localhost:8080/"
        },
        "id": "ztH32_0bfdm-",
        "outputId": "e0b6c10d-8d81-4390-ae01-c641ba2fc5a9"
      },
      "execution_count": 12,
      "outputs": [
        {
          "output_type": "stream",
          "name": "stdout",
          "text": [
            "Epoch 1/100\n",
            "13/13 [==============================] - 3s 52ms/step - loss: 123992.6953 - val_loss: 240416.8750\n",
            "Epoch 2/100\n",
            "13/13 [==============================] - 0s 23ms/step - loss: 119368.5312 - val_loss: 241014.7188\n",
            "Epoch 3/100\n",
            "13/13 [==============================] - 0s 23ms/step - loss: 115923.5703 - val_loss: 241652.8281\n",
            "Epoch 4/100\n",
            "13/13 [==============================] - 0s 29ms/step - loss: 112582.4219 - val_loss: 241851.5156\n",
            "Epoch 5/100\n",
            "13/13 [==============================] - 0s 20ms/step - loss: 108778.5703 - val_loss: 241560.1875\n",
            "Epoch 6/100\n",
            "13/13 [==============================] - 0s 22ms/step - loss: 104825.3438 - val_loss: 240712.2969\n",
            "Epoch 7/100\n",
            "13/13 [==============================] - 0s 14ms/step - loss: 100666.3047 - val_loss: 239351.4219\n",
            "Epoch 8/100\n",
            "13/13 [==============================] - 0s 19ms/step - loss: 96255.7812 - val_loss: 237797.0312\n",
            "Epoch 9/100\n",
            "13/13 [==============================] - 0s 12ms/step - loss: 91965.0859 - val_loss: 235979.1094\n",
            "Epoch 10/100\n",
            "13/13 [==============================] - 0s 17ms/step - loss: 87545.9219 - val_loss: 234140.9375\n",
            "Epoch 11/100\n",
            "13/13 [==============================] - 0s 21ms/step - loss: 83369.3984 - val_loss: 232146.6562\n",
            "Epoch 12/100\n",
            "13/13 [==============================] - 0s 18ms/step - loss: 79598.9453 - val_loss: 230005.2031\n",
            "Epoch 13/100\n",
            "13/13 [==============================] - 0s 15ms/step - loss: 75769.8203 - val_loss: 227849.0938\n",
            "Epoch 14/100\n",
            "13/13 [==============================] - 0s 16ms/step - loss: 72207.2969 - val_loss: 225657.8125\n",
            "Epoch 15/100\n",
            "13/13 [==============================] - 0s 16ms/step - loss: 68823.4922 - val_loss: 223388.4219\n",
            "Epoch 16/100\n",
            "13/13 [==============================] - 0s 21ms/step - loss: 65427.9180 - val_loss: 221267.4219\n",
            "Epoch 17/100\n",
            "13/13 [==============================] - 0s 16ms/step - loss: 62514.5547 - val_loss: 218937.2969\n",
            "Epoch 18/100\n",
            "13/13 [==============================] - 0s 20ms/step - loss: 59583.0977 - val_loss: 216809.0469\n",
            "Epoch 19/100\n",
            "13/13 [==============================] - 0s 17ms/step - loss: 56809.3008 - val_loss: 214544.4844\n",
            "Epoch 20/100\n",
            "13/13 [==============================] - 0s 18ms/step - loss: 54160.2617 - val_loss: 212424.0781\n",
            "Epoch 21/100\n",
            "13/13 [==============================] - 0s 24ms/step - loss: 51496.9297 - val_loss: 210360.3750\n",
            "Epoch 22/100\n",
            "13/13 [==============================] - 0s 12ms/step - loss: 49077.4609 - val_loss: 208357.0469\n",
            "Epoch 23/100\n",
            "13/13 [==============================] - 0s 22ms/step - loss: 46508.6758 - val_loss: 206312.1719\n",
            "Epoch 24/100\n",
            "13/13 [==============================] - 0s 19ms/step - loss: 44000.4062 - val_loss: 204312.1719\n",
            "Epoch 25/100\n",
            "13/13 [==============================] - 0s 17ms/step - loss: 41893.6562 - val_loss: 202268.2188\n",
            "Epoch 26/100\n",
            "13/13 [==============================] - 0s 20ms/step - loss: 39565.2461 - val_loss: 200283.4375\n",
            "Epoch 27/100\n",
            "13/13 [==============================] - 0s 17ms/step - loss: 37363.5352 - val_loss: 198256.0156\n",
            "Epoch 28/100\n",
            "13/13 [==============================] - 0s 28ms/step - loss: 35400.3711 - val_loss: 196171.8438\n",
            "Epoch 29/100\n",
            "13/13 [==============================] - 0s 17ms/step - loss: 33383.5391 - val_loss: 194234.4531\n",
            "Epoch 30/100\n",
            "13/13 [==============================] - 0s 18ms/step - loss: 31407.7852 - val_loss: 192429.4375\n",
            "Epoch 31/100\n",
            "13/13 [==============================] - 0s 18ms/step - loss: 29646.3359 - val_loss: 190449.5781\n",
            "Epoch 32/100\n",
            "13/13 [==============================] - 0s 18ms/step - loss: 27920.2969 - val_loss: 188555.6562\n",
            "Epoch 33/100\n",
            "13/13 [==============================] - 0s 20ms/step - loss: 26205.3750 - val_loss: 186717.3594\n",
            "Epoch 34/100\n",
            "13/13 [==============================] - 0s 16ms/step - loss: 24538.6133 - val_loss: 185095.1719\n",
            "Epoch 35/100\n",
            "13/13 [==============================] - 0s 13ms/step - loss: 23184.9199 - val_loss: 183191.7344\n",
            "Epoch 36/100\n",
            "13/13 [==============================] - 0s 21ms/step - loss: 21460.1660 - val_loss: 181561.7812\n",
            "Epoch 37/100\n",
            "13/13 [==============================] - 0s 20ms/step - loss: 20026.8691 - val_loss: 180172.8906\n",
            "Epoch 38/100\n",
            "13/13 [==============================] - 0s 18ms/step - loss: 18820.3066 - val_loss: 178718.0156\n",
            "Epoch 39/100\n",
            "13/13 [==============================] - 0s 13ms/step - loss: 17430.8984 - val_loss: 177232.7344\n",
            "Epoch 40/100\n",
            "13/13 [==============================] - 0s 16ms/step - loss: 16339.6221 - val_loss: 175854.1406\n",
            "Epoch 41/100\n",
            "13/13 [==============================] - 0s 12ms/step - loss: 15243.0635 - val_loss: 174505.9062\n",
            "Epoch 42/100\n",
            "13/13 [==============================] - 0s 14ms/step - loss: 14175.1025 - val_loss: 173198.4531\n",
            "Epoch 43/100\n",
            "13/13 [==============================] - 0s 15ms/step - loss: 13228.8623 - val_loss: 171827.2031\n",
            "Epoch 44/100\n",
            "13/13 [==============================] - 0s 15ms/step - loss: 12302.7969 - val_loss: 170814.0312\n",
            "Epoch 45/100\n",
            "13/13 [==============================] - 0s 12ms/step - loss: 11580.3301 - val_loss: 169799.7656\n",
            "Epoch 46/100\n",
            "13/13 [==============================] - 0s 17ms/step - loss: 10934.0000 - val_loss: 168776.1406\n",
            "Epoch 47/100\n",
            "13/13 [==============================] - 0s 18ms/step - loss: 10275.9775 - val_loss: 167840.6250\n",
            "Epoch 48/100\n",
            "13/13 [==============================] - 0s 19ms/step - loss: 9577.9648 - val_loss: 167066.4688\n",
            "Epoch 49/100\n",
            "13/13 [==============================] - 0s 10ms/step - loss: 9080.9834 - val_loss: 166393.5156\n",
            "Epoch 50/100\n",
            "13/13 [==============================] - 0s 8ms/step - loss: 8511.1553 - val_loss: 165967.4219\n",
            "Epoch 51/100\n",
            "13/13 [==============================] - 0s 10ms/step - loss: 8038.4878 - val_loss: 165512.0781\n",
            "Epoch 52/100\n",
            "13/13 [==============================] - 0s 12ms/step - loss: 7626.3271 - val_loss: 164921.0156\n",
            "Epoch 53/100\n",
            "13/13 [==============================] - 0s 11ms/step - loss: 7203.3320 - val_loss: 164482.0312\n",
            "Epoch 54/100\n",
            "13/13 [==============================] - 0s 14ms/step - loss: 6886.6436 - val_loss: 164043.4531\n",
            "Epoch 55/100\n",
            "13/13 [==============================] - 0s 12ms/step - loss: 6470.0654 - val_loss: 163771.7344\n",
            "Epoch 56/100\n",
            "13/13 [==============================] - 0s 11ms/step - loss: 6146.2998 - val_loss: 163424.7500\n",
            "Epoch 57/100\n",
            "13/13 [==============================] - 0s 12ms/step - loss: 5828.0005 - val_loss: 163236.0938\n",
            "Epoch 58/100\n",
            "13/13 [==============================] - 0s 12ms/step - loss: 5568.4282 - val_loss: 162935.0312\n",
            "Epoch 59/100\n",
            "13/13 [==============================] - 0s 11ms/step - loss: 5309.0796 - val_loss: 162772.4531\n",
            "Epoch 60/100\n",
            "13/13 [==============================] - 0s 14ms/step - loss: 5019.6143 - val_loss: 162573.9844\n",
            "Epoch 61/100\n",
            "13/13 [==============================] - 0s 11ms/step - loss: 4801.1841 - val_loss: 162424.5156\n",
            "Epoch 62/100\n",
            "13/13 [==============================] - 0s 13ms/step - loss: 4584.4536 - val_loss: 162271.9062\n",
            "Epoch 63/100\n",
            "13/13 [==============================] - 0s 12ms/step - loss: 4343.6982 - val_loss: 162125.2031\n",
            "Epoch 64/100\n",
            "13/13 [==============================] - 0s 12ms/step - loss: 4167.8970 - val_loss: 162139.0938\n",
            "Epoch 65/100\n",
            "13/13 [==============================] - 0s 13ms/step - loss: 3970.2720 - val_loss: 161896.1875\n",
            "Epoch 66/100\n",
            "13/13 [==============================] - 0s 12ms/step - loss: 3788.7092 - val_loss: 161810.1719\n",
            "Epoch 67/100\n",
            "13/13 [==============================] - 0s 12ms/step - loss: 3615.1125 - val_loss: 161755.1406\n",
            "Epoch 68/100\n",
            "13/13 [==============================] - 0s 12ms/step - loss: 3484.6611 - val_loss: 161675.1719\n",
            "Epoch 69/100\n",
            "13/13 [==============================] - 0s 13ms/step - loss: 3338.7585 - val_loss: 161599.3906\n",
            "Epoch 70/100\n",
            "13/13 [==============================] - 0s 12ms/step - loss: 3173.3794 - val_loss: 161502.5312\n",
            "Epoch 71/100\n",
            "13/13 [==============================] - 0s 12ms/step - loss: 3048.3601 - val_loss: 161473.8281\n",
            "Epoch 72/100\n",
            "13/13 [==============================] - 0s 12ms/step - loss: 2951.8718 - val_loss: 161437.2344\n",
            "Epoch 73/100\n",
            "13/13 [==============================] - 0s 13ms/step - loss: 2806.5488 - val_loss: 161402.9375\n",
            "Epoch 74/100\n",
            "13/13 [==============================] - 0s 12ms/step - loss: 2698.6594 - val_loss: 161357.6719\n",
            "Epoch 75/100\n",
            "13/13 [==============================] - 0s 8ms/step - loss: 2607.4351 - val_loss: 161370.9062\n",
            "Epoch 76/100\n",
            "13/13 [==============================] - 0s 10ms/step - loss: 2509.9978 - val_loss: 161360.0781\n",
            "Epoch 77/100\n",
            "13/13 [==============================] - 0s 8ms/step - loss: 2417.6741 - val_loss: 161323.2500\n",
            "Epoch 78/100\n",
            "13/13 [==============================] - 0s 8ms/step - loss: 2316.0967 - val_loss: 161267.7812\n",
            "Epoch 79/100\n",
            "13/13 [==============================] - 0s 8ms/step - loss: 2235.2246 - val_loss: 161256.1719\n",
            "Epoch 80/100\n",
            "13/13 [==============================] - 0s 9ms/step - loss: 2172.4551 - val_loss: 161240.0938\n",
            "Epoch 81/100\n",
            "13/13 [==============================] - 0s 8ms/step - loss: 2083.8835 - val_loss: 161199.3281\n",
            "Epoch 82/100\n",
            "13/13 [==============================] - 0s 9ms/step - loss: 2025.6453 - val_loss: 161242.9062\n",
            "Epoch 83/100\n",
            "13/13 [==============================] - 0s 8ms/step - loss: 1947.1243 - val_loss: 161196.8125\n",
            "Epoch 84/100\n",
            "13/13 [==============================] - 0s 8ms/step - loss: 1882.7832 - val_loss: 161213.2969\n",
            "Epoch 85/100\n",
            "13/13 [==============================] - 0s 7ms/step - loss: 1824.6104 - val_loss: 161161.7500\n",
            "Epoch 86/100\n",
            "13/13 [==============================] - 0s 7ms/step - loss: 1762.0959 - val_loss: 161159.7500\n",
            "Epoch 87/100\n",
            "13/13 [==============================] - 0s 8ms/step - loss: 1718.5713 - val_loss: 161164.7500\n",
            "Epoch 88/100\n",
            "13/13 [==============================] - 0s 8ms/step - loss: 1658.3893 - val_loss: 161162.6875\n",
            "Epoch 89/100\n",
            "13/13 [==============================] - 0s 8ms/step - loss: 1606.2799 - val_loss: 161167.6719\n",
            "Epoch 90/100\n",
            "13/13 [==============================] - 0s 8ms/step - loss: 1560.9047 - val_loss: 161153.0938\n",
            "Epoch 91/100\n",
            "13/13 [==============================] - 0s 8ms/step - loss: 1507.5620 - val_loss: 161146.4219\n",
            "Epoch 92/100\n",
            "13/13 [==============================] - 0s 10ms/step - loss: 1467.6261 - val_loss: 161130.6250\n",
            "Epoch 93/100\n",
            "13/13 [==============================] - 0s 8ms/step - loss: 1425.1857 - val_loss: 161128.7500\n",
            "Epoch 94/100\n",
            "13/13 [==============================] - 0s 7ms/step - loss: 1383.6494 - val_loss: 161130.0938\n",
            "Epoch 95/100\n",
            "13/13 [==============================] - 0s 8ms/step - loss: 1365.7775 - val_loss: 161154.7344\n",
            "Epoch 96/100\n",
            "13/13 [==============================] - 0s 8ms/step - loss: 1302.4257 - val_loss: 161148.3281\n",
            "Epoch 97/100\n",
            "13/13 [==============================] - 0s 8ms/step - loss: 1264.7322 - val_loss: 161204.5312\n",
            "Epoch 98/100\n",
            "13/13 [==============================] - 0s 8ms/step - loss: 1229.9410 - val_loss: 161203.8750\n",
            "Epoch 99/100\n",
            "13/13 [==============================] - 0s 9ms/step - loss: 1200.1582 - val_loss: 161220.3125\n",
            "Epoch 100/100\n",
            "13/13 [==============================] - 0s 8ms/step - loss: 1181.7261 - val_loss: 161227.3594\n"
          ]
        },
        {
          "output_type": "execute_result",
          "data": {
            "text/plain": [
              "<keras.src.callbacks.History at 0x79ce220ce140>"
            ]
          },
          "metadata": {},
          "execution_count": 12
        }
      ]
    },
    {
      "cell_type": "code",
      "source": [
        "predictions_nn = model.predict(X_test_scaled)\n",
        "mse_nn = mean_squared_error(test_df['Labels'], predictions_nn)\n",
        "print(f'Mean Squared Error (Neural Network): {mse_nn}')"
      ],
      "metadata": {
        "colab": {
          "base_uri": "https://localhost:8080/"
        },
        "id": "IwoNAEY6hwmj",
        "outputId": "9c679c04-53b0-4ff5-cb24-59b7796a3d90"
      },
      "execution_count": 13,
      "outputs": [
        {
          "output_type": "stream",
          "name": "stdout",
          "text": [
            "4/4 [==============================] - 0s 3ms/step\n",
            "Mean Squared Error (Neural Network): 48878.55811849744\n"
          ]
        }
      ]
    },
    {
      "cell_type": "code",
      "source": [
        "predicted_duration_nn = model.predict(X_test_scaled)\n",
        "print(f'Predicted Duration: {predicted_duration_nn.mean()}')"
      ],
      "metadata": {
        "colab": {
          "base_uri": "https://localhost:8080/"
        },
        "id": "YEylQKKq--MN",
        "outputId": "19ee28ae-cdb1-4101-ee7f-a8def7519a04"
      },
      "execution_count": 16,
      "outputs": [
        {
          "output_type": "stream",
          "name": "stdout",
          "text": [
            "4/4 [==============================] - 0s 6ms/step\n",
            "Predicted Duration: 202.61773681640625\n"
          ]
        }
      ]
    },
    {
      "cell_type": "code",
      "source": [
        "predicted_duration_lr = lr_model.predict(X_test_tfidf)\n",
        "print(f'Predicted Duration (Linear Regression): {predicted_duration_lr.mean()}')"
      ],
      "metadata": {
        "colab": {
          "base_uri": "https://localhost:8080/"
        },
        "id": "ojvNXi9U-qiV",
        "outputId": "b9615aed-3171-4253-e46a-843731e8820f"
      },
      "execution_count": 17,
      "outputs": [
        {
          "output_type": "stream",
          "name": "stdout",
          "text": [
            "Predicted Duration (Linear Regression): 239.8335868057432\n"
          ]
        }
      ]
    }
  ]
}